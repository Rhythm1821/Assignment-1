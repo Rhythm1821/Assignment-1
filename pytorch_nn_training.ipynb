{
  "cells": [
    {
      "cell_type": "markdown",
      "metadata": {
        "id": "view-in-github",
        "colab_type": "text"
      },
      "source": [
        "<a href=\"https://colab.research.google.com/github/Rhythm1821/Assignment-1/blob/main/pytorch_nn_training.ipynb\" target=\"_parent\"><img src=\"https://colab.research.google.com/assets/colab-badge.svg\" alt=\"Open In Colab\"/></a>"
      ]
    },
    {
      "cell_type": "markdown",
      "source": [
        "# Pytorch Neural Network training with different datasets"
      ],
      "metadata": {
        "id": "PZaFRmzA5HLr"
      }
    },
    {
      "cell_type": "markdown",
      "source": [
        "## 1 Regression Neural Network\n"
      ],
      "metadata": {
        "id": "r-or55tc5Gog"
      }
    },
    {
      "cell_type": "code",
      "execution_count": null,
      "metadata": {
        "id": "co_Xs6q3vMkc",
        "colab": {
          "base_uri": "https://localhost:8080/",
          "height": 35
        },
        "outputId": "69f8a04a-984d-4d20-f466-33a9e2bd3a4f"
      },
      "outputs": [
        {
          "output_type": "execute_result",
          "data": {
            "text/plain": [
              "'cuda'"
            ],
            "application/vnd.google.colaboratory.intrinsic+json": {
              "type": "string"
            }
          },
          "metadata": {},
          "execution_count": 97
        }
      ],
      "source": [
        "from sklearn.datasets import make_regression\n",
        "from sklearn.model_selection import train_test_split\n",
        "import torch\n",
        "from torch import nn\n",
        "import matplotlib.pyplot as plt\n",
        "device = 'cuda' if torch.cuda.is_available() else 'cpu'\n",
        "device"
      ]
    },
    {
      "cell_type": "code",
      "source": [
        "X,y = make_regression(n_samples=1000,n_features=10,noise=2)\n",
        "X = torch.from_numpy(X)\n",
        "y = torch.from_numpy(y)"
      ],
      "metadata": {
        "id": "0PcZOUHHojgo"
      },
      "execution_count": null,
      "outputs": []
    },
    {
      "cell_type": "code",
      "source": [
        "class RegressionNN(nn.Module):\n",
        "  def __init__(self,\n",
        "               input_features,\n",
        "               hidden_units,\n",
        "               output_features):\n",
        "    super().__init__()\n",
        "    self.linear_layer_1 = nn.Linear(in_features=input_features,out_features=hidden_units)\n",
        "    self.linear_layer_2 = nn.Linear(in_features=hidden_units,out_features=hidden_units)\n",
        "    self.linear_layer_3 = nn.Linear(in_features=hidden_units,out_features=output_features)\n",
        "  def forward(self,x):\n",
        "    return self.linear_layer_3(self.linear_layer_2(self.linear_layer_1(x)))"
      ],
      "metadata": {
        "id": "GxvJWHtXsAiE"
      },
      "execution_count": null,
      "outputs": []
    },
    {
      "cell_type": "code",
      "source": [
        "model_0 = RegressionNN(input_features=10,hidden_units=10,output_features=1)\n",
        "model_0.to(device)"
      ],
      "metadata": {
        "colab": {
          "base_uri": "https://localhost:8080/"
        },
        "id": "bw2bvqhkwHj9",
        "outputId": "3c94136b-c4bd-4a8c-fcae-2a41a20a940f"
      },
      "execution_count": null,
      "outputs": [
        {
          "output_type": "execute_result",
          "data": {
            "text/plain": [
              "RegressionNN(\n",
              "  (linear_layer_1): Linear(in_features=10, out_features=10, bias=True)\n",
              "  (linear_layer_2): Linear(in_features=10, out_features=10, bias=True)\n",
              "  (linear_layer_3): Linear(in_features=10, out_features=1, bias=True)\n",
              ")"
            ]
          },
          "metadata": {},
          "execution_count": 100
        }
      ]
    },
    {
      "cell_type": "code",
      "source": [
        "loss_fn = nn.L1Loss()\n",
        "optimizer = torch.optim.Adam(params=model_0.parameters())"
      ],
      "metadata": {
        "id": "zxMhRhwKxhMg"
      },
      "execution_count": null,
      "outputs": []
    },
    {
      "cell_type": "code",
      "source": [
        "X_train,X_test,y_train,y_test = train_test_split(X,y,test_size=0.2,random_state=42)"
      ],
      "metadata": {
        "id": "R8LyWhrUxC-b"
      },
      "execution_count": null,
      "outputs": []
    },
    {
      "cell_type": "code",
      "source": [
        "train_loss_val=[]\n",
        "test_loss_val=[]\n",
        "epoch_count=[]\n",
        "\n",
        "epochs = 1001\n",
        "X_train,X_test = X_train.to(device,torch.float32),X_test.to(device,torch.float32)\n",
        "y_train,y_test = y_train.to(device,torch.float32),y_test.to(device,torch.float32)\n",
        "\n",
        "for epoch in range(epochs):\n",
        "  # Train the model\n",
        "  model_0.train()\n",
        "\n",
        "\n",
        "  y_pred = model_0(X_train)\n",
        "\n",
        "  loss = loss_fn(y_train.unsqueeze(dim=1),y_pred)\n",
        "\n",
        "  optimizer.zero_grad()\n",
        "\n",
        "  loss.backward()\n",
        "\n",
        "  optimizer.step()\n",
        "\n",
        "  # Testing the data\n",
        "  model_0.eval()\n",
        "\n",
        "  with torch.inference_mode():\n",
        "    test_pred = model_0(X_test)\n",
        "\n",
        "    test_loss = loss_fn(y_test.unsqueeze(dim=1),test_pred)\n",
        "\n",
        "  if epoch%100==0:\n",
        "    train_loss_val.append(loss)\n",
        "    test_loss_val.append(test_loss)\n",
        "    epoch_count.append(epoch)\n",
        "    print(f'Epoch: {epoch} | Train loss: {loss} | Test loss: {test_loss}')"
      ],
      "metadata": {
        "colab": {
          "base_uri": "https://localhost:8080/"
        },
        "id": "IY-mausKwhSB",
        "outputId": "4857c619-3ce9-4a3c-e4fa-0befa1f958f6"
      },
      "execution_count": null,
      "outputs": [
        {
          "output_type": "stream",
          "name": "stdout",
          "text": [
            "Epoch: 0 | Train loss: 129.37290954589844 | Test loss: 109.01475524902344\n",
            "Epoch: 100 | Train loss: 127.90333557128906 | Test loss: 107.60511779785156\n",
            "Epoch: 200 | Train loss: 118.0063247680664 | Test loss: 98.47895050048828\n",
            "Epoch: 300 | Train loss: 89.7948989868164 | Test loss: 74.02486419677734\n",
            "Epoch: 400 | Train loss: 45.8370246887207 | Test loss: 41.32440185546875\n",
            "Epoch: 500 | Train loss: 12.167272567749023 | Test loss: 11.94042682647705\n",
            "Epoch: 600 | Train loss: 1.5477523803710938 | Test loss: 1.6504192352294922\n",
            "Epoch: 700 | Train loss: 1.543518304824829 | Test loss: 1.6381908655166626\n",
            "Epoch: 800 | Train loss: 1.5435625314712524 | Test loss: 1.6387035846710205\n",
            "Epoch: 900 | Train loss: 1.5434588193893433 | Test loss: 1.6368392705917358\n",
            "Epoch: 1000 | Train loss: 1.5434304475784302 | Test loss: 1.637042760848999\n"
          ]
        }
      ]
    },
    {
      "cell_type": "code",
      "source": [
        "# MSE Loss\n",
        "# Epoch: 0 | Train loss: 42714.75 | Test loss: 46038.625\n",
        "# Epoch: 10 | Train loss: 42714.515625 | Test loss: 46038.5703125\n",
        "# Epoch: 20 | Train loss: 42714.27734375 | Test loss: 46038.515625\n",
        "# Epoch: 30 | Train loss: 42714.046875 | Test loss: 46038.4609375\n",
        "# Epoch: 40 | Train loss: 42713.81640625 | Test loss: 46038.41015625\n",
        "# Epoch: 50 | Train loss: 42713.58984375 | Test loss: 46038.36328125\n",
        "# Epoch: 60 | Train loss: 42713.3671875 | Test loss: 46038.3203125\n",
        "# Epoch: 70 | Train loss: 42713.1484375 | Test loss: 46038.28125\n",
        "# Epoch: 80 | Train loss: 42712.9296875 | Test loss: 46038.23828125\n",
        "# Epoch: 90 | Train loss: 42712.71484375 | Test loss: 46038.19921875\n",
        "\n",
        "# Epoch: 0 | Train loss: 26828.69921875 | Test loss: 26928.037109375\n",
        "# Epoch: 10 | Train loss: 26819.75 | Test loss: 26919.677734375\n",
        "# Epoch: 20 | Train loss: 26810.802734375 | Test loss: 26911.3203125\n",
        "# Epoch: 30 | Train loss: 26801.857421875 | Test loss: 26902.96484375\n",
        "# Epoch: 40 | Train loss: 26792.912109375 | Test loss: 26894.603515625\n",
        "# Epoch: 50 | Train loss: 26783.974609375 | Test loss: 26886.251953125\n",
        "# Epoch: 60 | Train loss: 26775.037109375 | Test loss: 26877.904296875\n",
        "# Epoch: 70 | Train loss: 26766.107421875 | Test loss: 26869.5546875\n",
        "# Epoch: 80 | Train loss: 26757.177734375 | Test loss: 26861.208984375\n",
        "# Epoch: 90 | Train loss: 26748.251953125 | Test loss: 26852.861328125\n",
        "\n",
        "# L1 Loss\n",
        "# Epoch: 1000 | Train loss: 26033.791015625 | Test loss: 26210.474609375\n",
        "# Epoch: 2000 | Train loss: 25179.96484375 | Test loss: 25396.19921875\n",
        "# Epoch: 3000 | Train loss: 24349.28515625 | Test loss: 24598.109375\n",
        "# Epoch: 4000 | Train loss: 23539.41015625 | Test loss: 23815.666015625\n",
        "# Epoch: 5000 | Train loss: 22748.744140625 | Test loss: 23046.865234375\n",
        "\n",
        "# Epoch: 1000 | Train loss: 118.40008544921875 | Test loss: 119.21858978271484\n",
        "# Epoch: 2000 | Train loss: 116.31094360351562 | Test loss: 117.27717590332031\n",
        "# Epoch: 3000 | Train loss: 114.24134826660156 | Test loss: 115.32990264892578\n",
        "# Epoch: 4000 | Train loss: 112.18978881835938 | Test loss: 113.38880920410156\n",
        "# Epoch: 5000 | Train loss: 110.14192962646484 | Test loss: 111.4547348022461\n",
        "\n",
        "# 1 Hidden layer\n",
        "# Epoch: 0 | Train loss: 130.98681640625 | Test loss: 130.99559020996094\n",
        "# Epoch: 1000 | Train loss: 81.64506530761719 | Test loss: 82.77690887451172\n",
        "# Epoch: 2000 | Train loss: 1.5128850936889648 | Test loss: 1.5725997686386108\n",
        "# Epoch: 3000 | Train loss: 1.51263427734375 | Test loss: 1.5749320983886719\n",
        "# # Epoch: 4000 | Train loss: 1.5126311779022217 | Test loss: 1.5749702453613281\n",
        "# Epoch: 5000 | Train loss: 1.5126426219940186 | Test loss: 1.5755642652511597\n",
        "\n",
        "# 2 Linear layers\n",
        "# Epoch: 0 | Train loss: 130.98681640625 | Test loss: 130.99559020996094\n",
        "# Epoch: 1000 | Train loss: 81.64506530761719 | Test loss: 82.77690887451172\n",
        "# Epoch: 2000 | Train loss: 1.5128850936889648 | Test loss: 1.5725997686386108\n",
        "# Epoch: 3000 | Train loss: 1.51263427734375 | Test loss: 1.5749320983886719\n",
        "# Epoch: 4000 | Train loss: 1.5126311779022217 | Test loss: 1.5749702453613281\n",
        "# Epoch: 5000 | Train loss: 1.5126426219940186 | Test loss: 1.5755642652511597"
      ],
      "metadata": {
        "id": "a8myue3j-WQU"
      },
      "execution_count": null,
      "outputs": []
    },
    {
      "cell_type": "code",
      "source": [
        "import numpy as np\n",
        "import torch\n",
        "import matplotlib.pyplot as plt\n",
        "\n",
        "# Assuming you have already defined the epoch_count, train_loss_val, and test_loss_val variables\n",
        "\n",
        "plt.plot(epoch_count, np.array(torch.tensor(train_loss_val).cpu().numpy()), label='Train Loss')\n",
        "plt.plot(epoch_count, np.array(torch.tensor(test_loss_val).cpu().numpy()), label='Test loss values')\n",
        "plt.ylabel('Loss')\n",
        "plt.xlabel('Epochs')\n",
        "plt.legend()\n",
        "plt.show()\n"
      ],
      "metadata": {
        "colab": {
          "base_uri": "https://localhost:8080/",
          "height": 449
        },
        "id": "cTI3hCdgRM1h",
        "outputId": "18d2fb21-1de7-4351-ef04-3933ffeba095"
      },
      "execution_count": null,
      "outputs": [
        {
          "output_type": "display_data",
          "data": {
            "text/plain": [
              "<Figure size 640x480 with 1 Axes>"
            ],
            "image/png": "[encoded data removed]"
          },
          "metadata": {}
        }
      ]
    },
    {
      "cell_type": "code",
      "source": [
        "model_0.train()\n",
        "\n",
        "with torch.inference_mode():\n",
        "  test_pred = model_0(X_test)\n",
        "  loss = loss_fn(y_test,test_pred)\n",
        "  print(f'Test loss: {test_loss}')"
      ],
      "metadata": {
        "id": "sb5ryrjm0Z1r",
        "colab": {
          "base_uri": "https://localhost:8080/"
        },
        "outputId": "5baf0773-3c27-4186-f20e-4e2f73a1f2e6"
      },
      "execution_count": null,
      "outputs": [
        {
          "output_type": "stream",
          "name": "stdout",
          "text": [
            "Test loss: 1.637042760848999\n"
          ]
        },
        {
          "output_type": "stream",
          "name": "stderr",
          "text": [
            "/usr/local/lib/python3.10/dist-packages/torch/nn/modules/loss.py:101: UserWarning: Using a target size (torch.Size([200, 1])) that is different to the input size (torch.Size([200])). This will likely lead to incorrect results due to broadcasting. Please ensure they have the same size.\n",
            "  return F.l1_loss(input, target, reduction=self.reduction)\n"
          ]
        }
      ]
    },
    {
      "cell_type": "markdown",
      "source": [
        "## 2 Binary Classification Neural Network"
      ],
      "metadata": {
        "id": "gNbTCWfVyoWr"
      }
    },
    {
      "cell_type": "code",
      "source": [
        "from sklearn.datasets import make_classification"
      ],
      "metadata": {
        "id": "TIJUq3DWkOH1"
      },
      "execution_count": null,
      "outputs": []
    },
    {
      "cell_type": "code",
      "source": [
        "X,y = make_classification(n_samples=1000,n_features=10,n_classes=2)\n",
        "X = torch.from_numpy(X)\n",
        "y = torch.from_numpy(y)"
      ],
      "metadata": {
        "id": "PitA62o1ka-w"
      },
      "execution_count": null,
      "outputs": []
    },
    {
      "cell_type": "code",
      "source": [
        "X_train,X_test,y_train,y_test = train_test_split(X,y,test_size=0.2)"
      ],
      "metadata": {
        "id": "FClL6o76mQdE"
      },
      "execution_count": null,
      "outputs": []
    },
    {
      "cell_type": "code",
      "source": [
        "X_train,X_test = X_train.to(device,dtype=torch.float32), X_test.to(device,dtype=torch.float32)\n",
        "y_train,y_test = y_train.to(device,dtype=torch.float32),y_test.to(device,dtype=torch.float32)"
      ],
      "metadata": {
        "id": "FkSiab9pnMUo"
      },
      "execution_count": null,
      "outputs": []
    },
    {
      "cell_type": "code",
      "source": [
        "class BinaryNN(nn.Module):\n",
        "  def __init__(self,in_features,hidden_units,out_features):\n",
        "    super().__init__()\n",
        "    self.linear_block_1 = nn.Linear(in_features=in_features,\n",
        "                                                  out_features=out_features)\n",
        "                                        # nn.functional.sigmoid(input=))\n",
        "  def forward(self,x):\n",
        "    return nn.Sigmoid()(self.linear_block_1(x))"
      ],
      "metadata": {
        "id": "vMeKRRFHlXxD"
      },
      "execution_count": null,
      "outputs": []
    },
    {
      "cell_type": "code",
      "source": [
        "model_1 = BinaryNN(in_features=10,\n",
        "              hidden_units=10,\n",
        "              out_features=1).to(device)"
      ],
      "metadata": {
        "id": "bKn5XYEJnkgj"
      },
      "execution_count": null,
      "outputs": []
    },
    {
      "cell_type": "code",
      "source": [
        "try:\n",
        "  from torchmetrics import Accuracy\n",
        "except:\n",
        "  !pip install torchmetrics\n",
        "  from torchmetrics import Accuracy"
      ],
      "metadata": {
        "id": "EYidViXUpu3E"
      },
      "execution_count": null,
      "outputs": []
    },
    {
      "cell_type": "code",
      "source": [
        "loss_fn = nn.BCELoss()\n",
        "acc_fn = Accuracy(task='binary').to(device)\n",
        "optimizer = torch.optim.SGD(params=model_1.parameters(),lr=0.01)"
      ],
      "metadata": {
        "id": "qykVyNLdoMn0"
      },
      "execution_count": null,
      "outputs": []
    },
    {
      "cell_type": "code",
      "source": [
        "print(f'X_train: {X_train.shape} | X_test: {X_test.shape} | y_train: {y_train.shape} | y_test: {y_test.shape}')"
      ],
      "metadata": {
        "colab": {
          "base_uri": "https://localhost:8080/"
        },
        "id": "BCHt7FHcuj9Q",
        "outputId": "f4f3445e-a05a-4538-e5f1-2af96d7d5f40"
      },
      "execution_count": null,
      "outputs": [
        {
          "output_type": "stream",
          "name": "stdout",
          "text": [
            "X_train: torch.Size([800, 10]) | X_test: torch.Size([200, 10]) | y_train: torch.Size([800]) | y_test: torch.Size([200])\n"
          ]
        }
      ]
    },
    {
      "cell_type": "code",
      "source": [
        "train_loss_val=[]\n",
        "test_loss_val=[]\n",
        "epoch_count=[]\n",
        "epochs = 1001\n",
        "\n",
        "for epoch in range(epochs):\n",
        "  # Train the model\n",
        "  model_1.train()\n",
        "\n",
        "  # Forward pass\n",
        "  y_pred = model_1(X_train)\n",
        "  # print(f'y_pred: {y_pred}')\n",
        "  # Calculate the loss\n",
        "  loss = loss_fn(y_pred.squeeze(dim=1),y_train)\n",
        "  acc = acc_fn(y_pred.squeeze(dim=1),y_train)\n",
        "\n",
        "  # optimizer zero grad\n",
        "  optimizer.zero_grad()\n",
        "\n",
        "  # loss backward\n",
        "  loss.backward()\n",
        "\n",
        "  # optimizer step\n",
        "  optimizer.step()\n",
        "\n",
        "  with torch.inference_mode():\n",
        "    model_1.eval()\n",
        "\n",
        "    test_pred = model_1(X_test)\n",
        "\n",
        "    test_loss = loss_fn(y_test,test_pred.squeeze(dim=1))\n",
        "    test_acc = acc_fn(test_pred.squeeze(dim=1),y_test)\n",
        "\n",
        "  if epoch%100==0:\n",
        "    train_loss_val.append(loss)\n",
        "    test_loss_val.append(test_loss)\n",
        "    epoch_count.append(epoch)\n",
        "    print(f'Epoch: {epoch} | Train loss: {loss} | Train accuracy: {acc} | Test loss: {test_loss} | Test accuracy: {test_acc}')"
      ],
      "metadata": {
        "colab": {
          "base_uri": "https://localhost:8080/"
        },
        "id": "vp_55R3sn4ze",
        "outputId": "fd83313e-44dc-419b-cd98-f0e1ee18aa10"
      },
      "execution_count": null,
      "outputs": [
        {
          "output_type": "stream",
          "name": "stdout",
          "text": [
            "Epoch: 0 | Train loss: 0.5847253203392029 | Train accuracy: 0.6812499761581421 | Test loss: 39.654998779296875 | Test accuracy: 0.7350000143051147\n",
            "Epoch: 100 | Train loss: 0.39449039101600647 | Train accuracy: 0.8512499928474426 | Test loss: 29.35575294494629 | Test accuracy: 0.875\n",
            "Epoch: 200 | Train loss: 0.33830520510673523 | Train accuracy: 0.8824999928474426 | Test loss: 25.605247497558594 | Test accuracy: 0.8600000143051147\n",
            "Epoch: 300 | Train loss: 0.3134204149246216 | Train accuracy: 0.8849999904632568 | Test loss: 23.717119216918945 | Test accuracy: 0.8550000190734863\n",
            "Epoch: 400 | Train loss: 0.30001476407051086 | Train accuracy: 0.8912500143051147 | Test loss: 22.58460807800293 | Test accuracy: 0.8550000190734863\n",
            "Epoch: 500 | Train loss: 0.2919462025165558 | Train accuracy: 0.8962500095367432 | Test loss: 21.832094192504883 | Test accuracy: 0.8600000143051147\n",
            "Epoch: 600 | Train loss: 0.28673335909843445 | Train accuracy: 0.8987500071525574 | Test loss: 21.2979679107666 | Test accuracy: 0.8600000143051147\n",
            "Epoch: 700 | Train loss: 0.2831960916519165 | Train accuracy: 0.8999999761581421 | Test loss: 20.901151657104492 | Test accuracy: 0.8550000190734863\n",
            "Epoch: 800 | Train loss: 0.2807080149650574 | Train accuracy: 0.9012500047683716 | Test loss: 20.596410751342773 | Test accuracy: 0.8550000190734863\n",
            "Epoch: 900 | Train loss: 0.278909295797348 | Train accuracy: 0.9012500047683716 | Test loss: 20.356456756591797 | Test accuracy: 0.8550000190734863\n",
            "Epoch: 1000 | Train loss: 0.2775805592536926 | Train accuracy: 0.9024999737739563 | Test loss: 20.1638126373291 | Test accuracy: 0.8550000190734863\n"
          ]
        }
      ]
    },
    {
      "cell_type": "code",
      "source": [
        "import numpy as np\n",
        "import torch\n",
        "import matplotlib.pyplot as plt\n",
        "\n",
        "# Assuming you have already defined the epoch_count, train_loss_val, and test_loss_val variables\n",
        "\n",
        "plt.plot(epoch_count, np.array(torch.tensor(train_loss_val).cpu().numpy()), label='Train Loss')\n",
        "plt.plot(epoch_count, np.array(torch.tensor(test_loss_val).cpu().numpy()), label='Test loss values')\n",
        "plt.ylabel('Loss')\n",
        "plt.xlabel('Epochs')\n",
        "plt.legend()\n",
        "plt.show()\n"
      ],
      "metadata": {
        "colab": {
          "base_uri": "https://localhost:8080/",
          "height": 449
        },
        "id": "1lVpyuYP3Q0V",
        "outputId": "30fa9cec-9c18-4ed7-9c9f-0f802c060274"
      },
      "execution_count": null,
      "outputs": [
        {
          "output_type": "display_data",
          "data": {
            "text/plain": [
              "<Figure size 640x480 with 1 Axes>"
            ],
            "image/png": "[encoded data removed]"
          },
          "metadata": {}
        }
      ]
    }
  ],
  "metadata": {
    "accelerator": "GPU",
    "colab": {
      "provenance": [],
      "gpuType": "T4",
      "authorship_tag": "ABX9TyONd0F8UykmTWKXFdo8A4ON",
      "include_colab_link": true
    },
    "kernelspec": {
      "display_name": "Python 3",
      "name": "python3"
    },
    "language_info": {
      "name": "python"
    }
  },
  "nbformat": 4,
  "nbformat_minor": 0
}